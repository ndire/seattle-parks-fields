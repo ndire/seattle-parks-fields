{
 "cells": [
  {
   "cell_type": "code",
   "execution_count": null,
   "id": "1dffa024-5e8e-4122-bf91-2cc6b57f39b4",
   "metadata": {},
   "outputs": [],
   "source": [
    "import sys\n",
    "\n",
    "sys.path.append('./src')\n",
    "\n",
    "%load_ext autoreload\n",
    "%autoreload 2"
   ]
  },
  {
   "cell_type": "code",
   "execution_count": null,
   "id": "67399041-8656-44c0-adec-38f900a3e5ea",
   "metadata": {},
   "outputs": [],
   "source": [
    "import requests\n",
    "import os.path\n",
    "import filters\n",
    "from datetime import date, datetime, time\n",
    "import time as pytime\n",
    "from dataclasses import dataclass\n",
    "from typing import Optional, Dict\n",
    "import pandas as pd\n",
    "\n",
    "from time_block import TimeBlock\n",
    "from parks_web import get_availability"
   ]
  },
  {
   "cell_type": "code",
   "execution_count": null,
   "id": "f444adae-001c-43ea-b57d-aeac84f6247c",
   "metadata": {},
   "outputs": [],
   "source": [
    "blocks = filter(None, map(filters.clip_range_date, get_availability('Mag8', '2025-05-01', '2025-07-30')))\n",
    "blocks = filters.filter_duration(blocks, 0.9)\n",
    "list(blocks)[:10]"
   ]
  },
  {
   "cell_type": "code",
   "execution_count": null,
   "id": "c20b0e06-b85f-4529-a32d-3b830408286f",
   "metadata": {},
   "outputs": [],
   "source": [
    "df = pd.DataFrame(map(lambda b: b.to_json(), blocks))\n",
    "#df.sort_values('Date')\n",
    "#df.to_csv('~/Downloads/lower_woodland.csv')\n",
    "df"
   ]
  },
  {
   "cell_type": "code",
   "execution_count": null,
   "id": "b2b7561b-8815-4644-a1f6-edbc73cae0fb",
   "metadata": {},
   "outputs": [],
   "source": [
    "date(2025, 7, 3) in HOLIDAYS"
   ]
  },
  {
   "cell_type": "code",
   "execution_count": null,
   "id": "ffcb9e6a-8af9-49cf-9d2e-12fce9aad03c",
   "metadata": {},
   "outputs": [],
   "source": [
    "get_availability('Mag8', '2025-06-01', '2025-06-30')"
   ]
  },
  {
   "cell_type": "code",
   "execution_count": null,
   "id": "83101517-97ed-40be-ade1-0a00b163202e",
   "metadata": {},
   "outputs": [],
   "source": []
  }
 ],
 "metadata": {
  "kernelspec": {
   "display_name": "Python 3 (ipykernel)",
   "language": "python",
   "name": "python3"
  },
  "language_info": {
   "codemirror_mode": {
    "name": "ipython",
    "version": 3
   },
   "file_extension": ".py",
   "mimetype": "text/x-python",
   "name": "python",
   "nbconvert_exporter": "python",
   "pygments_lexer": "ipython3",
   "version": "3.13.3"
  }
 },
 "nbformat": 4,
 "nbformat_minor": 5
}
